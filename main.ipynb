{
 "cells": [
  {
   "cell_type": "markdown",
   "metadata": {},
   "source": [
    "# Goals and Mission\n",
    "\n",
    "The goal of this file is to chose the best living location possible. The model includes following components.\n",
    "\n",
    "Living location properties:\n",
    "* Locations of interests.\n",
    "    * Main comparison point is place of living.\n",
    "    * Each individual is allowed unlimited number of places destinations of importance.\n",
    "* Travel modes include, transit (PT), biking and walking.\n",
    "* Fastest arrival times are provided for these area.\n",
    "* Night and day travel (IK you are kinda freaky)\n",
    "\n",
    "Goodness of fit:\n",
    "* Each individual is assigned a single composite point.\n",
    "    * They can divide it by however many locations they fancy and by whatever weighting fancied.\n",
    "* The model will provide both individual and overall goodness scores for an area\n",
    "* Weighting for night and day travel.\n",
    "\n",
    "\n",
    "### Assumptions\n",
    "\n",
    "Travelling to takes the same amount of time as travelling back"
   ]
  },
  {
   "cell_type": "markdown",
   "metadata": {},
   "source": [
    "Enable the following :\n",
    "* Maps JavaScript API\n",
    "* Directions API"
   ]
  },
  {
   "cell_type": "markdown",
   "metadata": {},
   "source": [
    "Get you google API key from the stored file."
   ]
  },
  {
   "cell_type": "markdown",
   "metadata": {},
   "source": [
    "# Navigator\n",
    "\n",
    "Key google maps API and DB interactions are stored within the [Navigator](Navigator.py) class"
   ]
  },
  {
   "cell_type": "code",
   "execution_count": 2,
   "metadata": {},
   "outputs": [],
   "source": [
    "from Navigator import Navigator\n",
    "from Person import Person\n",
    "navigator = Navigator()\n"
   ]
  },
  {
   "cell_type": "code",
   "execution_count": 3,
   "metadata": {},
   "outputs": [
    {
     "name": "stdout",
     "output_type": "stream",
     "text": [
      "   duration  distance    origin  \\\n",
      "0        51       6.3  SW13 9BN   \n",
      "1        53       7.6  SW13 9BN   \n",
      "2        84       5.9  SW13 9BN   \n",
      "3        84       5.9  SW13 9BN   \n",
      "4        52       6.0  SW13 9BN   \n",
      "5        45      10.1  SW13 9BN   \n",
      "6        73       5.1  SW13 9BN   \n",
      "7        73       5.1  SW13 9BN   \n",
      "\n",
      "                                        destination time_of_day     mode  \\\n",
      "0  Imperial College London, South Kensington Campus         day  transit   \n",
      "1  Imperial College London, South Kensington Campus       night  transit   \n",
      "2  Imperial College London, South Kensington Campus         day  walking   \n",
      "3  Imperial College London, South Kensington Campus       night  walking   \n",
      "4        Imperial College London, White City Campus         day  transit   \n",
      "5        Imperial College London, White City Campus       night  transit   \n",
      "6        Imperial College London, White City Campus         day  walking   \n",
      "7        Imperial College London, White City Campus       night  walking   \n",
      "\n",
      "   location_importance  mode_importance  time_importance     name  \n",
      "0                  0.5              0.5              0.5  Povilas  \n",
      "1                  0.5              0.5              0.5  Povilas  \n",
      "2                  0.5              0.5              0.5  Povilas  \n",
      "3                  0.5              0.5              0.5  Povilas  \n",
      "4                  0.5              0.5              0.5  Povilas  \n",
      "5                  0.5              0.5              0.5  Povilas  \n",
      "6                  0.5              0.5              0.5  Povilas  \n",
      "7                  0.5              0.5              0.5  Povilas  \n"
     ]
    }
   ],
   "source": [
    "Povilas = Person( Navigator(), \"SW13 9BN\", \"Povilas\")\n",
    "Povilas.destinations = {\"Imperial College London, South Kensington Campus\":1,\n",
    "                    \"Imperial College London, White City Campus\":1}\n",
    "\n",
    "\n",
    "Povilas.go_there()\n",
    "display(Povilas.results)\n"
   ]
  },
  {
   "cell_type": "code",
   "execution_count": null,
   "metadata": {},
   "outputs": [],
   "source": []
  }
 ],
 "metadata": {
  "kernelspec": {
   "display_name": "Python 3",
   "language": "python",
   "name": "python3"
  },
  "language_info": {
   "codemirror_mode": {
    "name": "ipython",
    "version": 3
   },
   "file_extension": ".py",
   "mimetype": "text/x-python",
   "name": "python",
   "nbconvert_exporter": "python",
   "pygments_lexer": "ipython3",
   "version": "3.12.0"
  }
 },
 "nbformat": 4,
 "nbformat_minor": 2
}
