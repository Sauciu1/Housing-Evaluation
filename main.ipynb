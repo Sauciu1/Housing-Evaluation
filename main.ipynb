{
 "cells": [
  {
   "cell_type": "markdown",
   "metadata": {},
   "source": [
    "# Goals and Mission\n",
    "\n",
    "The goal of this file is to chose the best living location possible. The model includes following components.\n",
    "\n",
    "Living location properties:\n",
    "* Locations of interests.\n",
    "    * Main comparison point is place of living.\n",
    "    * Each individual is allowed unlimited number of places destinations of importance.\n",
    "* Travel modes include, transit (PT), biking and walking.\n",
    "* Fastest arrival times are provided for these area.\n",
    "* Night and day travel (IK you are kinda freaky)\n",
    "\n",
    "Goodness of fit:\n",
    "* Each individual is assigned a single composite point.\n",
    "    * They can divide it by however many locations they fancy and by whatever weighting fancied.\n",
    "* The model will provide both individual and overall goodness scores for an area\n",
    "* Weighting for night and day travel."
   ]
  },
  {
   "cell_type": "markdown",
   "metadata": {},
   "source": [
    "Enable the following :\n",
    "* Maps JavaScript API\n",
    "* Directions API"
   ]
  },
  {
   "cell_type": "markdown",
   "metadata": {},
   "source": [
    "Get you google API key from the stored file."
   ]
  },
  {
   "cell_type": "markdown",
   "metadata": {},
   "source": [
    "# Navigator\n",
    "\n",
    "Key google maps API and DB interactions are stored within the [Navigator](Navigator.py) class"
   ]
  },
  {
   "cell_type": "code",
   "execution_count": 1,
   "metadata": {},
   "outputs": [
    {
     "name": "stdout",
     "output_type": "stream",
     "text": [
      "46 5.8 day\n"
     ]
    }
   ],
   "source": [
    "from Navigator import Navigator\n",
    "navigator = Navigator()"
   ]
  },
  {
   "cell_type": "code",
   "execution_count": 6,
   "metadata": {},
   "outputs": [
    {
     "name": "stdout",
     "output_type": "stream",
     "text": [
      "{'Imperial College London, South Kensington Campus': 0.5, 'Imperial College London, White City Campus': 0.5}\n"
     ]
    }
   ],
   "source": [
    "class Person():\n",
    "    \"\"\"Stores locations of interest for each individual\"\"\"\n",
    "    def __init__(self):\n",
    "        self.locations = {}\n",
    "    def normalize(self):\n",
    "        total = sum(self.locations.values())\n",
    "        if total > 0:\n",
    "            self.locations = {k: v / total for k, v in self.locations.items()}\n",
    "\n",
    "\n",
    "Povilas = Person()\n",
    "Povilas.locations = {\"Imperial College London, South Kensington Campus\":1,\n",
    "                     \"Imperial College London, White City Campus\":1}\n",
    "Povilas.normalize()\n",
    "\n",
    "print(Povilas.locations)\n"
   ]
  }
 ],
 "metadata": {
  "kernelspec": {
   "display_name": "Python 3",
   "language": "python",
   "name": "python3"
  },
  "language_info": {
   "codemirror_mode": {
    "name": "ipython",
    "version": 3
   },
   "file_extension": ".py",
   "mimetype": "text/x-python",
   "name": "python",
   "nbconvert_exporter": "python",
   "pygments_lexer": "ipython3",
   "version": "3.12.0"
  }
 },
 "nbformat": 4,
 "nbformat_minor": 2
}
